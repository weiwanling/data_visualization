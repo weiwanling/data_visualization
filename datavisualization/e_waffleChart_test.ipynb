{
 "cells": [
  {
   "cell_type": "code",
   "execution_count": 24,
   "metadata": {},
   "outputs": [],
   "source": [
    "%matplotlib inline\n",
    "import pandas as pd\n",
    "import matplotlib as mpl\n",
    "import matplotlib.pyplot as plt\n",
    "import matplotlib.patches as mpatches\n",
    "import numpy as np\n",
    "\n"
   ]
  },
  {
   "cell_type": "code",
   "execution_count": 25,
   "metadata": {},
   "outputs": [
    {
     "name": "stdout",
     "output_type": "stream",
     "text": [
      "['bmh', 'classic', 'dark_background', 'fast', 'fivethirtyeight', 'ggplot', 'grayscale', 'seaborn-bright', 'seaborn-colorblind', 'seaborn-dark-palette', 'seaborn-dark', 'seaborn-darkgrid', 'seaborn-deep', 'seaborn-muted', 'seaborn-notebook', 'seaborn-paper', 'seaborn-pastel', 'seaborn-poster', 'seaborn-talk', 'seaborn-ticks', 'seaborn-white', 'seaborn-whitegrid', 'seaborn', 'Solarize_Light2', 'tableau-colorblind10', '_classic_test']\n"
     ]
    }
   ],
   "source": [
    "print(plt.style.available)\n",
    "mpl.style.use('ggplot') "
   ]
  },
  {
   "cell_type": "code",
   "execution_count": 26,
   "metadata": {},
   "outputs": [],
   "source": [
    "def create_waffle_chart(categories,values,height,width,colormap,value_sign=''):\n",
    "    \n",
    "    total_values=sum(values)\n",
    "    category_proportions=[float(value)/total_values for value in values]\n",
    "    \n",
    "    total_num_tiles=height*width\n",
    "    print('Total num tiles is ',total_num_tiles)\n",
    "    \n",
    "    tile_per_category=[  round(proportion*total_num_tiles) for proportion in category_proportions]\n",
    "    \n",
    "    for i,tiles in enumerate(tile_per_category):\n",
    "        print(categories[i]+':'+str(tiles))\n",
    "    \n",
    "    waffle_chart=np.zeros((height,width))\n",
    "    category_index=0\n",
    "    tile_index=0\n",
    "    for col in range(width):\n",
    "        for row in range(height):\n",
    "            tile_index+=1\n",
    "            if tile_index>sum(tile_per_category[0:category_index]):\n",
    "                category_index+=1\n",
    "            waffle_chart[row,col]=category_index\n",
    "    fig=plt.figure()\n",
    "    \n",
    "    #colormap=plt.cm.coolwarm\n",
    "    plt.matshow(waffle_chart,cmap=colormap)\n",
    "    plt.colorbar()\n",
    "    \n",
    "    ax=plt.gca()\n",
    "    ax.set_xticks(np.arange(-.5,width,1),minor=True)\n",
    "    ax.set_yticks(np.arange(-.5,height,1),minor=True)\n",
    "    ax.grid(which='minor',color='w',linestyle='-',linewidth=2)\n",
    "    \n",
    "    plt.xticks([])\n",
    "    plt.yticks([])\n",
    "    \n",
    "    values_cumsum=np.cumsum(values)\n",
    "    total_values=values_cumsum[len(values_cumsum)-1]\n",
    "    \n",
    "    legend_handles=[]\n",
    "    for i,category in enumerate(categories):\n",
    "        if  value_sign=='%':\n",
    "            label_str =  category+'('+str(values(i))+value_sign+')'\n",
    "        else:\n",
    "            label_str = category + ' (' + value_sign + str(values[i]) + ')'\n",
    "        color_val=colormap(float(values_cumsum[i])/total_values)\n",
    "        legend_handles.append(mpatches.Patch(color=color_val,label=label_str))                             \n",
    "    \n",
    "    \n",
    "    plt.legend(\n",
    "               handles=legend_handles,\n",
    "               loc='lower center',\n",
    "               ncol=len(categories),\n",
    "               bbox_to_anchor=(0.,-0.2,0.95,.1)\n",
    "              )\n",
    "    \n",
    "      "
   ]
  },
  {
   "cell_type": "code",
   "execution_count": 31,
   "metadata": {},
   "outputs": [
    {
     "name": "stdout",
     "output_type": "stream",
     "text": [
      "Total num tiles is  400\n",
      "a:69\n",
      "b:126\n",
      "c:206\n"
     ]
    },
    {
     "data": {
      "text/plain": [
       "<Figure size 640x480 with 0 Axes>"
      ]
     },
     "metadata": {},
     "output_type": "display_data"
    },
    {
     "data": {
      "image/png": "[encoded data removed]",
      "text/plain": [
       "<Figure size 1280x320 with 2 Axes>"
      ]
     },
     "metadata": {},
     "output_type": "display_data"
    }
   ],
   "source": [
    "mpl.style.use('ggplot') \n",
    "width = 40 # width of chart\n",
    "height = 10 # height of chart\n",
    "\n",
    "categories =['a','b','c'] \n",
    "values = [1.2,2.2,3.6]\n",
    "\n",
    "colormap = plt.cm.winter_r # color map class\n",
    "create_waffle_chart(categories, values, height, width, colormap,'')"
   ]
  }
 ],
 "metadata": {
  "kernelspec": {
   "display_name": "Python 3",
   "language": "python",
   "name": "python3"
  },
  "language_info": {
   "codemirror_mode": {
    "name": "ipython",
    "version": 3
   },
   "file_extension": ".py",
   "mimetype": "text/x-python",
   "name": "python",
   "nbconvert_exporter": "python",
   "pygments_lexer": "ipython3",
   "version": "3.7.3"
  }
 },
 "nbformat": 4,
 "nbformat_minor": 2
}
